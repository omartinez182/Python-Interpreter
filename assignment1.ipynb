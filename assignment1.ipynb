{
  "nbformat": 4,
  "nbformat_minor": 0,
  "metadata": {
    "kernelspec": {
      "display_name": "Python 3",
      "language": "python",
      "name": "python3"
    },
    "language_info": {
      "codemirror_mode": {
        "name": "ipython",
        "version": 3
      },
      "file_extension": ".py",
      "mimetype": "text/x-python",
      "name": "python",
      "nbconvert_exporter": "python",
      "pygments_lexer": "ipython3",
      "version": "3.7.10"
    },
    "colab": {
      "name": "assignment1.ipynb",
      "provenance": [],
      "collapsed_sections": [],
      "include_colab_link": true
    }
  },
  "cells": [
    {
      "cell_type": "markdown",
      "metadata": {
        "id": "view-in-github",
        "colab_type": "text"
      },
      "source": [
        "<a href=\"https://colab.research.google.com/github/omartinez182/Python-Interpreter/blob/master/assignment1.ipynb\" target=\"_parent\"><img src=\"https://colab.research.google.com/assets/colab-badge.svg\" alt=\"Open In Colab\"/></a>"
      ]
    },
    {
      "cell_type": "markdown",
      "metadata": {
        "id": "h05mo0O-p6NJ"
      },
      "source": [
        "Before you turn this problem in, make sure everything runs as expected. First, **restart the kernel** (in the menubar, select Kernel$\\rightarrow$Restart) and then **run all cells** (in the menubar, select Cell$\\rightarrow$Run All).\n",
        "\n",
        "Make sure you fill in any place that says `YOUR CODE HERE` or \"YOUR ANSWER HERE\", as well as your name and collaborators below:"
      ]
    },
    {
      "cell_type": "code",
      "metadata": {
        "id": "e3iGSSSzp6NN"
      },
      "source": [
        "NAME = \"Eduardo Martinez\"\n",
        "COLLABORATORS = \"\""
      ],
      "execution_count": 1,
      "outputs": []
    },
    {
      "cell_type": "markdown",
      "metadata": {
        "id": "YiLLSHqzp6NP"
      },
      "source": [
        "---"
      ]
    },
    {
      "cell_type": "markdown",
      "metadata": {
        "deletable": false,
        "editable": false,
        "nbgrader": {
          "cell_type": "markdown",
          "checksum": "9c9f0c5ec5fb2e6026a1966c620efe33",
          "grade": false,
          "grade_id": "cell-934b180c93302dfa",
          "locked": true,
          "schema_version": 3,
          "solution": false,
          "task": false
        },
        "id": "TS2x9iEzp6NP"
      },
      "source": [
        "<a href='https://ai.meng.duke.edu'> = <img align=\"left\" style=\"padding-top:10px;\" src=https://storage.googleapis.com/aipi_datasets/Duke-AIPI-Logo.png>"
      ]
    },
    {
      "cell_type": "markdown",
      "metadata": {
        "deletable": false,
        "editable": false,
        "nbgrader": {
          "cell_type": "markdown",
          "checksum": "655682aeb61cb93b4cd7718b4405eace",
          "grade": false,
          "grade_id": "cell-1af857b6b6ac9033",
          "locked": true,
          "schema_version": 3,
          "solution": false,
          "task": false
        },
        "id": "mYGr0SQxp6NQ"
      },
      "source": [
        "# Assignment 1 Question 1: Classifying Digits\n",
        "For this question we are going to be tackling an optical character recognition problem: identifying images of hand-written digits using a dataset called MNIST, which is immensely popular for use in introductory ML courses. I have provided you the model to use below (and at this point in the course you can treat it as a “black box”).  The objective of this problem is to identify the optimal value of a particular hyperparameter for the model by using the validation strategies we have learned in class.  \n",
        "\n",
        "Please write your code directly into the notebook in the cells marked \"YOUR CODE HERE\".  Please DO NOT modify any other code cells.  After you have added your code, restart your kernel and run the notebook from the top to ensure all cells run properly.  "
      ]
    },
    {
      "cell_type": "code",
      "metadata": {
        "deletable": false,
        "editable": false,
        "nbgrader": {
          "cell_type": "code",
          "checksum": "d8549b029ffe8fdfa429c04512220c11",
          "grade": false,
          "grade_id": "cell-6f18e5af3940d19e",
          "locked": true,
          "schema_version": 3,
          "solution": false,
          "task": false
        },
        "id": "gco6mMUBp6NR"
      },
      "source": [
        "import numpy as np\n",
        "import pandas as pd\n",
        "import matplotlib.pyplot as plt\n",
        "from sklearn.model_selection import train_test_split\n",
        "from sklearn.neighbors import KNeighborsClassifier\n",
        "from sklearn.neural_network import MLPClassifier\n",
        "from sklearn.model_selection import KFold"
      ],
      "execution_count": 2,
      "outputs": []
    },
    {
      "cell_type": "code",
      "metadata": {
        "deletable": false,
        "editable": false,
        "nbgrader": {
          "cell_type": "code",
          "checksum": "263c2060491c612fc0879ab4b66370cd",
          "grade": false,
          "grade_id": "cell-56dcb628dc113d10",
          "locked": true,
          "schema_version": 3,
          "solution": false,
          "task": false
        },
        "id": "h7ICC7PUp6NR",
        "colab": {
          "base_uri": "https://localhost:8080/"
        },
        "outputId": "743e4f3e-d3e1-46b2-97eb-9e40088a7a96"
      },
      "source": [
        "# Load the dataset we will use\n",
        "from sklearn.datasets import load_digits\n",
        "digits = load_digits()\n",
        "digits.images.shape"
      ],
      "execution_count": 3,
      "outputs": [
        {
          "output_type": "execute_result",
          "data": {
            "text/plain": [
              "(1797, 8, 8)"
            ]
          },
          "metadata": {},
          "execution_count": 3
        }
      ]
    },
    {
      "cell_type": "markdown",
      "metadata": {
        "deletable": false,
        "editable": false,
        "nbgrader": {
          "cell_type": "markdown",
          "checksum": "640301d3b0196f790e396f7c0e591b0d",
          "grade": false,
          "grade_id": "cell-9b1d2c211850fef8",
          "locked": true,
          "schema_version": 3,
          "solution": false,
          "task": false
        },
        "id": "rN68WHp9p6NS"
      },
      "source": [
        "As we can see above, we have 1797 observations of hand-written digits, each with a shape of 8x8 pixels.  Let's now visualize some of them so we can understand better what they look like."
      ]
    },
    {
      "cell_type": "code",
      "metadata": {
        "deletable": false,
        "editable": false,
        "nbgrader": {
          "cell_type": "code",
          "checksum": "f49820c93855bdbc2ee90aeca80b2d69",
          "grade": false,
          "grade_id": "cell-cf5f5b8da9ff8e34",
          "locked": true,
          "schema_version": 3,
          "solution": false,
          "task": false
        },
        "id": "ZJTOvD3Jp6NT",
        "colab": {
          "base_uri": "https://localhost:8080/",
          "height": 469
        },
        "outputId": "403979aa-0f0f-4aae-e83e-4e4946109aaa"
      },
      "source": [
        "fig, axes = plt.subplots(5, 5, figsize=(8, 8),\n",
        "                         subplot_kw={'xticks':[], 'yticks':[]},\n",
        "                         gridspec_kw=dict(hspace=0.1, wspace=0.1))\n",
        "\n",
        "for i, ax in enumerate(axes.flat):\n",
        "    ax.imshow(digits.images[i], cmap='binary', interpolation='nearest')\n",
        "    ax.text(0.05, 0.05, str(digits.target[i]),\n",
        "            transform=ax.transAxes, color='green')"
      ],
      "execution_count": 4,
      "outputs": [
        {
          "output_type": "display_data",
          "data": {
            "image/png": "[encoded data removed]",
            "text/plain": [
              "<Figure size 576x576 with 25 Axes>"
            ]
          },
          "metadata": {}
        }
      ]
    },
    {
      "cell_type": "markdown",
      "metadata": {
        "deletable": false,
        "editable": false,
        "nbgrader": {
          "cell_type": "markdown",
          "checksum": "3a11c7b1a3f46ae45e28da62b3f58068",
          "grade": false,
          "grade_id": "cell-b0e5d0e1b018865d",
          "locked": true,
          "schema_version": 3,
          "solution": false,
          "task": false
        },
        "id": "YwJ_y5kip6NU"
      },
      "source": [
        "Above we can see 25 of the digit images, with the digit label shown in small green font at lower left.  In our modeling project, we will use the values of each pixel (64 in total per image: 8x8) as the features of our input to the model.  Our target will be the image labels indicating what digit the image represents.\n",
        "\n",
        "As we know, to use the Scikit-Learn models our input data is expected to be in the shape [n_observations, n_features].  To get our input data into this form, we need to flatten our image pixel matrix from 8x8 to 1x64 (each row has 64 features - one feature representing each pixel).  Fortunately, someone has already done this for us and we can read the data in using the proper shape as shown below."
      ]
    },
    {
      "cell_type": "code",
      "metadata": {
        "deletable": false,
        "editable": false,
        "nbgrader": {
          "cell_type": "code",
          "checksum": "eb75eccc21dc62d57be171301b618ca8",
          "grade": false,
          "grade_id": "cell-ce465a3f07e317ba",
          "locked": true,
          "schema_version": 3,
          "solution": false,
          "task": false
        },
        "id": "wu_OCEwnp6NU",
        "colab": {
          "base_uri": "https://localhost:8080/"
        },
        "outputId": "3693b1aa-0751-42b2-98d7-5c7cb716148a"
      },
      "source": [
        "# Read in the input and target data\n",
        "X = digits.data\n",
        "y = digits.target\n",
        "print(X.shape,y.shape)"
      ],
      "execution_count": 5,
      "outputs": [
        {
          "output_type": "stream",
          "name": "stdout",
          "text": [
            "(1797, 64) (1797,)\n"
          ]
        }
      ]
    },
    {
      "cell_type": "markdown",
      "metadata": {
        "deletable": false,
        "editable": false,
        "nbgrader": {
          "cell_type": "markdown",
          "checksum": "244ec900e60277b11c593330dc2443ec",
          "grade": false,
          "grade_id": "cell-014d91729ebf6d30",
          "locked": true,
          "schema_version": 3,
          "solution": false,
          "task": false
        },
        "id": "_-EmowFtp6NU"
      },
      "source": [
        "## Q1.1: Train and test a KNN classification model (10 pts)"
      ]
    },
    {
      "cell_type": "markdown",
      "metadata": {
        "deletable": false,
        "editable": false,
        "nbgrader": {
          "cell_type": "markdown",
          "checksum": "4d8eadc29ad84f219303d5c080ffc3ac",
          "grade": false,
          "grade_id": "cell-4490767b900b945a",
          "locked": true,
          "schema_version": 3,
          "solution": false,
          "task": false
        },
        "id": "j684hzVhp6NV"
      },
      "source": [
        "In this part, we will practice training and evaluating performance of models using a simple K-Nearest-Neighbors (KNN) classifier model.  You do not need to worry about how this model works at this point, but if you are curious, for each datapoint that is fed to it to generate a prediction, it identifies the \"*n_neighbors*\" (a hyperparameter you can adjust) closest datapoints to it found in the training dataset (using either Euclidian distance or another similarity metric) and returns the target label most common to the *n_neighbors* neighbor points.  For example, if you feed an image to the KNN classifier and it identifies that most of the nearby points to the image are labeled as \"3\", it will predict that the image you have just provided is also a \"3\".\n",
        "\n",
        "For this first part, I have provided the code to set up the model below.  What I would like you to do is to complete the function `model_digits()` which accepts as input the input data `X` and the target labels `y` defined above, a model `model`, a value for `random_state` and a value for percentage of data to use in the test set `test_size`.\n",
        "\n",
        "The function should do the following:  \n",
        "- Split the data (X and y) into a training and set set using 80% for the training set and 20% for the test set.  Be sure to set `random_state=0` when splitting the data  \n",
        "- Fit your model using the training data  \n",
        "- Get the predictions on the test set and calculate accuracy of the test set predictions\n",
        "\n",
        "Your function should return the accuracy of the test set predictions."
      ]
    },
    {
      "cell_type": "code",
      "metadata": {
        "deletable": false,
        "nbgrader": {
          "cell_type": "code",
          "checksum": "05df8918273861ea9625fd5773ff5616",
          "grade": false,
          "grade_id": "cell-e060218eb5bb1bd9",
          "locked": false,
          "schema_version": 3,
          "solution": true,
          "task": false
        },
        "id": "lqdBawcbp6NV"
      },
      "source": [
        "def model_digits(X,y,model,random_state=0,test_size=0.2):\n",
        "    X_train, X_test, y_train, y_test = train_test_split(X,y, random_state=random_state, test_size=test_size)  # Split the data into train and test sets\n",
        "    model.fit(X_train, y_train) # Fit the data (train) to the model\n",
        "    preds = model.predict(X_test) # Generate predictions for the test set\n",
        "    accuracy = sum(preds==y_test)/len(y_test) # Calculate accuracy\n",
        "    return accuracy\n",
        "    raise NotImplementedError()"
      ],
      "execution_count": 6,
      "outputs": []
    },
    {
      "cell_type": "code",
      "metadata": {
        "deletable": false,
        "editable": false,
        "nbgrader": {
          "cell_type": "code",
          "checksum": "aab64f7b05cf3bc845c63e407f62c9ae",
          "grade": true,
          "grade_id": "cell-ef483e1a9a02bb23",
          "locked": true,
          "points": 10,
          "schema_version": 3,
          "solution": false,
          "task": false
        },
        "id": "Gv-qwTxfp6NW",
        "colab": {
          "base_uri": "https://localhost:8080/"
        },
        "outputId": "bbff19e6-d080-4fff-8d69-ce934950b8a0"
      },
      "source": [
        "# Test cell\n",
        "\n",
        "# Set up the model we will use\n",
        "knn_model = KNeighborsClassifier(n_neighbors=5)\n",
        "\n",
        "# Apply your function\n",
        "acc_test = model_digits(X,y,knn_model,random_state=0,test_size=0.2)\n",
        "print('Accuracy of your classifier on the test set is {:.3f}'.format(acc_test))\n",
        "\n",
        "# hidden tests below"
      ],
      "execution_count": 7,
      "outputs": [
        {
          "output_type": "stream",
          "name": "stdout",
          "text": [
            "Accuracy of your classifier on the test set is 0.975\n"
          ]
        }
      ]
    },
    {
      "cell_type": "markdown",
      "metadata": {
        "deletable": false,
        "editable": false,
        "nbgrader": {
          "cell_type": "markdown",
          "checksum": "df92fadd494778fe56cc4948268e9bce",
          "grade": false,
          "grade_id": "cell-f1a1557277a71a19",
          "locked": true,
          "schema_version": 3,
          "solution": false,
          "task": false
        },
        "id": "SNe0OYrrp6NW"
      },
      "source": [
        "## Q1.2: Perform algorithm selection using a validation set (20 pts)"
      ]
    },
    {
      "cell_type": "markdown",
      "metadata": {
        "deletable": false,
        "editable": false,
        "nbgrader": {
          "cell_type": "markdown",
          "checksum": "3d6e5ad8bd1f7df1525e9b2bfc6c8a5f",
          "grade": false,
          "grade_id": "cell-4110d3220df7cfc5",
          "locked": true,
          "schema_version": 3,
          "solution": false,
          "task": false
        },
        "id": "2q8meMUlp6NX"
      },
      "source": [
        "In this part, we will compare performance of two different classifer algorithms: a KNN model as above and a multilayer perceptron (neural network) model.  We will not do any hyperparameter tuning for either model, but rather will focus on comparing the two algorithms as they are provided in the cell below.  Your task is to compare models using a fixed validation set (NOT cross-validation, yet).  \n",
        "\n",
        "To do this, complete the below function `compare_models()` which takes as input the data `X` and labels `y` defined above, two models to compare `model1` and `model2`, the percentage of data to use for the test set `test_size`, and the percentage of the training set to use for validation `val_size`.\n",
        "\n",
        "Your function should do the following:  \n",
        "- Split your data into a test set and training set using the inputs `test_size` and `val_size`, being sure to use random_state=0 while splitting.  \n",
        "- Further split your training set into a validation set and training subset, being sure to use `random_state=0` while splitting.  \n",
        "- Fit each model on the training set  \n",
        "- Get the predictions of each model on the validation set and calculate the validation accuracy. \n",
        "- Select the model with the higher validation accuracy as your final model. \n",
        "- Retrain your final selected model on the training+validation set\n",
        "- Using your retrained final model, calculate the predictions on the test set and the accuracy of the test set predictions. \n",
        "\n",
        "Your function should return the test set accuracy performance of your selected model."
      ]
    },
    {
      "cell_type": "code",
      "metadata": {
        "deletable": false,
        "nbgrader": {
          "cell_type": "code",
          "checksum": "406d41aa454e4ee7ecbca1311470945e",
          "grade": false,
          "grade_id": "cell-d4c6a7c652fdd51a",
          "locked": false,
          "schema_version": 3,
          "solution": true,
          "task": false
        },
        "id": "Tu9UHAQAp6NX"
      },
      "source": [
        "def compare_models(X,y,model1,model2,test_size,val_size,random_state=0):\n",
        "    # Split data into train, validation, and test sets\n",
        "    X_train_full, X_test, y_train_full, y_test = train_test_split(X, y, random_state=random_state, test_size=test_size)\n",
        "    X_train, X_val, y_train, y_val = train_test_split(X_train_full, y_train_full, random_state=random_state, test_size=val_size)\n",
        "\n",
        "    # Fit data (train) to the models\n",
        "    model1.fit(X_train, y_train)\n",
        "    model2.fit(X_train, y_train)\n",
        "\n",
        "    # Generate predictions for the validation set\n",
        "    preds_model1 = model1.predict(X_val)\n",
        "    preds_model2 = model2.predict(X_val)\n",
        "\n",
        "    # Calculate accuracy for each model\n",
        "    val_acc_model1 = sum(preds_model1==y_val)/len(y_val)\n",
        "    val_acc_model2 = sum(preds_model2==y_val)/len(y_val)\n",
        "\n",
        "    # Select and retrain the best model on the full training set and calculate accuracy\n",
        "    if val_acc_model1 < val_acc_model2:\n",
        "      model2.fit(X_train_full, y_train_full)\n",
        "      val_preds = model2.predict(X_test)\n",
        "      val_acc = sum(val_preds==y_test)/len(y_test)\n",
        "    else:\n",
        "      model1.fit(X_train_full, y_train_full)\n",
        "      val_preds = model1.predict(X_test)\n",
        "      val_acc = sum(val_preds==y_test)/len(y_test)\n",
        "    \n",
        "    return val_acc\n",
        "    raise NotImplementedError()"
      ],
      "execution_count": 8,
      "outputs": []
    },
    {
      "cell_type": "code",
      "metadata": {
        "deletable": false,
        "editable": false,
        "nbgrader": {
          "cell_type": "code",
          "checksum": "1953d983902bb08daef1fe24f58b4de6",
          "grade": true,
          "grade_id": "cell-ce476d23f85f565d",
          "locked": true,
          "points": 20,
          "schema_version": 3,
          "solution": false,
          "task": false
        },
        "id": "i4CD7ViYp6NX",
        "colab": {
          "base_uri": "https://localhost:8080/"
        },
        "outputId": "9ebc9789-8ad8-4278-f897-2619f24018bb"
      },
      "source": [
        "# Test cell\n",
        "\n",
        "# Set up the two models to compare\n",
        "model_knn = KNeighborsClassifier(n_neighbors=5)\n",
        "model_mlp = MLPClassifier(hidden_layer_sizes=(100,50),activation='relu',\n",
        "                      solver='sgd',learning_rate_init=0.01,max_iter=2000)\n",
        "\n",
        "testacc = compare_models(X,y,model_knn,model_mlp,test_size=0.2,val_size=0.3,random_state=0)\n",
        "print('Accuracy of your final model on the test set is {:.3f}'.format(testacc))\n",
        "\n",
        "# Hidden tests"
      ],
      "execution_count": 9,
      "outputs": [
        {
          "output_type": "stream",
          "name": "stdout",
          "text": [
            "Accuracy of your final model on the test set is 0.975\n"
          ]
        }
      ]
    },
    {
      "cell_type": "markdown",
      "metadata": {
        "deletable": false,
        "editable": false,
        "nbgrader": {
          "cell_type": "markdown",
          "checksum": "afb04fd84cbcc82be71b6532b716475d",
          "grade": false,
          "grade_id": "cell-5ced69ba554e673b",
          "locked": true,
          "schema_version": 3,
          "solution": false,
          "task": false
        },
        "id": "xPeGOpJjp6NY"
      },
      "source": [
        "## Q1.3: Tune hyperparameters using cross-validation (20 pts)"
      ]
    },
    {
      "cell_type": "markdown",
      "metadata": {
        "deletable": false,
        "editable": false,
        "nbgrader": {
          "cell_type": "markdown",
          "checksum": "f423dcf0ecd188720e7fc364ee47a341",
          "grade": false,
          "grade_id": "cell-943ddb6cd56a80da",
          "locked": true,
          "schema_version": 3,
          "solution": false,
          "task": false
        },
        "id": "ImFkIXYEp6NY"
      },
      "source": [
        "For this part, we are again going to use the KNN algorithm which we used above.  However, rather than leaving its hyperparameter *n_neighbors* at a fixed value, we are going to run it with different values and determine which value gives us the best performance.  We will then use that in our final model.  To compare versions of the model using different values of *n_neighbors* we will use cross-validation.\n",
        "\n",
        "Your objective is the find the optimal value of `n_neighbors` using cross-validation and then to evaluate the performance of your best model.  To do this, complete the below function `crossval_compare()` which takes as input the data `X` and labels `y`, a range of values `n_range` to try for the hyperparameter `n_neighbors` of the model, the number of iterations `k` to use in the cross-validation, the amount of data to reserve for the test set `test_size`, and `random_state=0`.  \n",
        "\n",
        "Your function should perform the following:  \n",
        "- Split the data into training and test sets (be sure to set `random_state=0`. \n",
        "- For each integer value `n` in `n_range`:\n",
        "    - Instantiate a KNeighborsClassifier model setting `n_neighbors = n`  \n",
        "    - Perform a K-folds cross-validation, training the model on the training folds then evaluating the accuracy of the model on the validation fold\n",
        "    - Calculate and store the mean validation accuracy\n",
        "- Identify the value of `n_neighbors` which yielded the highest mean validation accuracy  \n",
        "- Create a final KNeighborsClassifier model using the optimal `n_neighbors` value from above. \n",
        "- Fit your final model and then use it to get the predictions for the test set. \n",
        "- Calculate the accuracy of your final model on the test set\n",
        "\n",
        "Your function should return a tuple of the optimal value of `n_neighbors` from the range as an integer, and the accuracy of your final optimal model on the test set as a float."
      ]
    },
    {
      "cell_type": "code",
      "metadata": {
        "deletable": false,
        "nbgrader": {
          "cell_type": "code",
          "checksum": "4964c27f7fd226194cfa8c17e4a44d95",
          "grade": false,
          "grade_id": "cell-42937c2a73ef506e",
          "locked": false,
          "schema_version": 3,
          "solution": true,
          "task": false
        },
        "id": "sqarGdlGp6NY"
      },
      "source": [
        "def crossval_compare(X,y,n_range,k,test_size,random_state=0):\n",
        "    # Split data into traing and test sets\n",
        "    X_train_full, X_test_full, y_train_full, y_test_full = train_test_split(X,y, test_size=test_size, random_state=random_state)\n",
        "\n",
        "    # Empty list to store the mean accuracy values of each model\n",
        "    mean_accuracy = []\n",
        "\n",
        "    # Instantiate, fit, and calculate accuracy for len(n_range) models\n",
        "    for n in n_range:\n",
        "      knn_model = KNeighborsClassifier(n_neighbors=n) # Instantiate the KNN classifier\n",
        "      kf = KFold(n_splits=k, random_state=random_state, shuffle=True) # KFolds object\n",
        "\n",
        "      accuracy = [] # Empty list to store the accuracy value of each round\n",
        "\n",
        "      # Train and evaluate models for each round of cross-validation\n",
        "      for train_index, test_index in kf.split(X_train_full, y_train_full):\n",
        "          X_train, X_test = X_train_full[train_index], X_train_full[test_index]\n",
        "          y_train, y_test = y_train_full[train_index], y_train_full[test_index]\n",
        "          knn_model.fit(X_train, y_train)\n",
        "          preds = knn_model.predict(X_test)\n",
        "          accuracy.append(sum(preds==y_test)/len(y_test))\n",
        "\n",
        "      # Store the mean accuracy value of each model\n",
        "      mean_accuracy.append(np.mean(accuracy))\n",
        "\n",
        "    # Train and evaluate model with the best parameter\n",
        "    index_best_model=np.argmax(mean_accuracy) # Select the index of the model with the highest accuracy\n",
        "    final_knn = KNeighborsClassifier(n_neighbors=n_range[index_best_model]) # Use the best parameter\n",
        "    final_knn.fit(X_train_full, y_train_full)\n",
        "    final_preds = final_knn.predict(X_test_full)\n",
        "    final_accuracy = sum(final_preds==y_test_full)/len(y_test_full)\n",
        "\n",
        "    return (n_range[index_best_model], final_accuracy)\n",
        "    raise NotImplementedError()"
      ],
      "execution_count": 10,
      "outputs": []
    },
    {
      "cell_type": "code",
      "metadata": {
        "deletable": false,
        "editable": false,
        "nbgrader": {
          "cell_type": "code",
          "checksum": "dc190d614bf09ceb305130ebe35c5032",
          "grade": true,
          "grade_id": "cell-7870e89168cd3516",
          "locked": true,
          "points": 20,
          "schema_version": 3,
          "solution": false,
          "task": false
        },
        "id": "cgDi_z2bp6NY",
        "colab": {
          "base_uri": "https://localhost:8080/"
        },
        "outputId": "feefc561-970b-479e-97cd-98ee0a4a2e7b"
      },
      "source": [
        "# Test cell\n",
        "n_range = [5,30]\n",
        "k=5\n",
        "opt_n, testacc = crossval_compare(X,y,n_range,k,test_size=0.2,random_state=0)\n",
        "print('Your function found the optimal value of n_neighbors to be {}'.format(opt_n))\n",
        "print('Your function calculated the accuracy of your final model as {:.3f}'.format(testacc))\n",
        "\n",
        "# Hidden tests"
      ],
      "execution_count": 11,
      "outputs": [
        {
          "output_type": "stream",
          "name": "stdout",
          "text": [
            "Your function found the optimal value of n_neighbors to be 5\n",
            "Your function calculated the accuracy of your final model as 0.975\n"
          ]
        }
      ]
    }
  ]
}